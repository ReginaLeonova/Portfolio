# 1 
import csv
#2
ages = []
sexes = []
bmis = []
num_children = []
smoker_statuses = []
regions = []
insurance_charges = []
#3
def load_list_data(lst, csv_file, column_name):
    with open(csv_file) as csv_info:
        csv_dict = csv.DictReader(csv_info)
        for row in csv_dict:
            lst.append(row[column_name])
        return lst
#4
load_list_data(ages, 'insurance.csv', 'age')
load_list_data(sexes, 'insurance.csv', 'sex')
load_list_data(bmis, 'insurance.csv', 'bmi')
load_list_data(num_children, 'insurance.csv', 'children')
load_list_data(smoker_statuses, 'insurance.csv', 'smoker')
load_list_data(regions, 'insurance.csv', 'region')
load_list_data(insurance_charges, 'insurance.csv', 'charges')

# 5 the average ages of the patients in insurance.csv
def analyze_ages(csv_file):
    total_age = 0
    with open(csv_file) as csv_info:
        csv_dict = csv.DictReader(csv_info)
        for row in csv_dict:
            if 'age' in row:
                total_age += int(row['age'])     
                average_age = round(total_age / len(ages), 2)
        return ("Average Patient Age: " + str(average_age) + " years")
    
print(analyze_ages('insurance.csv'))

# 6 the number of males and females in insurance.csv
def analyze_gender(csv_file):
    females = 0
    males = 0
    with open(csv_file) as csv_info:
        csv_dict = csv.DictReader(csv_info)
        for row in csv_dict:
            if row['sex'] == 'female':
                females += 1
            elif row['sex'] == 'male':
                males += 1
        return("Average numbers of females are " + str(females) + " and average number of males are " + str(males))
    
print(analyze_gender('insurance.csv'))

# 7 unique region patients are from
def analyze_region(csv_file):
    region_count = {}
    with open(csv_file) as csv_info:
        csv_dict = csv.DictReader(csv_info)
        for row in csv_dict:
            region = row['region']
            if region in region_count:
                region_count[region] += 1
            else:
                region_count[region] = 1
    return region_count
    
region_counts = analyze_region('insurance.csv')
for region, count in region_counts.items():
    print(f"Region: {region}, Count: {count}")

# 8 where a majority of the individuals are from
def analyze_region(csv_file):
    region_count = {}
    with open(csv_file) as csv_info:
        csv_dict = csv.DictReader(csv_info)
        for row in csv_dict:
            region = row['region']
            if region in region_count:
                region_count[region] += 1
            else:
                region_count[region] = 1
    dominant_region = max(region_count, key=region_count.get)
    return dominant_region, region_count[dominant_region]
    
dominant_region, count = analyze_region('insurance.csv')
print(f"The dominant region is {dominant_region} with {count} individuals.")

# 9 difference in cost between smokers and non-smokers
def analyze_smoker(csv_file):
    smoker_cost = []
    non_smoker_cost = []
    with open(csv_file) as csv_info:
        csv_dict = csv.DictReader(csv_info)
        for row in csv_dict:
            if row['smoker'] == 'yes':
                smoker_cost.append(float(row['charges']))
            elif row['smoker'] == 'no':
                non_smoker_cost.append(float(row['charges']))
    smoker_avg_cost = round(sum(smoker_cost) / len(smoker_cost),2)
    non_smoker_avg_cost = round(sum(non_smoker_cost) / len(non_smoker_cost),2)
    difference = smoker_avg_cost - non_smoker_avg_cost
    return "Difference is " + str(difference) + "$"
    
print(analyze_smoker('insurance.csv'))

# 10 average age for people with at least one child 
def analyze_avg_age_child(csv_file):
    age = []
    with open(csv_file) as csv_info:
        csv_dict = csv.DictReader(csv_info)
        for row in csv_dict:
            if row['children'] == '1':
                age.append(int(row['age']))
    avg_age = round(sum(age) / len(age), 1)
    return "Average age for people with one child is " + str(avg_age) + " years old"
    
print(analyze_avg_age_child('insurance.csv'))

# 11 average BMI for smokers
def analyze_bmi(csv_file):
    smoker_bmi = []
    with open(csv_file) as csv_info:
        csv_dict = csv.DictReader(csv_info)
        for row in csv_dict:
            if row['smoker'] == 'yes':
                smoker_bmi.append(float(row['bmi']))
    avg_bmi = round(sum(smoker_bmi) / len(smoker_bmi), 1)
    return "Average BMI for smokers is " + str(avg_bmi)
    
print(analyze_bmi('insurance.csv'))

# 12 create dictionary with patient's information
def create_dictionary(csv_file):
    patient_dict = {}
    with open(csv_file) as csv_info:
        csv_dict = csv.DictReader(csv_info)
        for i, row in enumerate(csv_dict):
        #iterates over each row in the CSV file, where i is the index of the row
            age = int(row['age'])
            sex = row['sex']
            bmi = float(row['bmi'])
            num_children = int(row['children'])
            smoker_status = row['smoker']
            region = row['region']
            insurance_charges = float(row['charges'])
            patient_info = {
                'age': age,
                'sex': sex,
                'bmi': bmi,
                'num_children': num_children,
                'smoker_status': smoker_status,
                'region': region,
                'insurance_charges': insurance_charges
            }
            patient_dict[i] = patient_info
    return patient_dict

patients_dict = create_dictionary('insurance.csv')
print(patients_dict)
            
