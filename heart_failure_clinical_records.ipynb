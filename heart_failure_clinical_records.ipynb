{
 "cells": [
  {
   "cell_type": "code",
   "execution_count": 15,
   "id": "bbb489ef-a342-4dd5-9dd9-e3821062fd99",
   "metadata": {},
   "outputs": [],
   "source": [
    "import pandas as pd"
   ]
  },
  {
   "cell_type": "code",
   "execution_count": 16,
   "id": "6bea5a7f-bd33-40cb-a1f4-6c9e22ec2898",
   "metadata": {},
   "outputs": [
    {
     "name": "stdout",
     "output_type": "stream",
     "text": [
      "   Unnamed: 0   age  anaemia  creatinine_phosphokinase diabetes  \\\n",
      "0           0  75.0        0                       582      yes   \n",
      "1           1  55.0        0                      7861      yes   \n",
      "2           2  65.0        0                       146      yes   \n",
      "3           3  50.0        1                       111      yes   \n",
      "4           4  65.0        1                       160       no   \n",
      "\n",
      "   ejection_fraction  high_blood_pressure  platelets  serum_creatinine  \\\n",
      "0                 20                    1  265000.00               1.9   \n",
      "1                 38                    0  263358.03               1.1   \n",
      "2                 20                    0  162000.00               1.3   \n",
      "3                 20                    0  210000.00               1.9   \n",
      "4                 20                    0  327000.00               2.7   \n",
      "\n",
      "   serum_sodium     sex  smoking  time  DEATH_EVENT  \n",
      "0           130    male        0     4            1  \n",
      "1           136    male        0     6            1  \n",
      "2           129    male        1     7            1  \n",
      "3           137    male        0     7            1  \n",
      "4           116  female        0     8            1  \n"
     ]
    }
   ],
   "source": [
    "df = pd.read_csv('heart_failure_clinical_records_dataset_edited.csv')\n",
    "print(df.head(5))"
   ]
  },
  {
   "cell_type": "code",
   "execution_count": 17,
   "id": "ae779ab0-a403-41f6-8e72-2f9cbe3b0391",
   "metadata": {},
   "outputs": [
    {
     "name": "stdout",
     "output_type": "stream",
     "text": [
      "       Unnamed: 0         age     anaemia  creatinine_phosphokinase  \\\n",
      "count  299.000000  299.000000  299.000000                299.000000   \n",
      "mean   149.000000   60.833893    0.431438                581.839465   \n",
      "std     86.458082   11.894809    0.496107                970.287881   \n",
      "min      0.000000   40.000000    0.000000                 23.000000   \n",
      "25%     74.500000   51.000000    0.000000                116.500000   \n",
      "50%    149.000000   60.000000    0.000000                250.000000   \n",
      "75%    223.500000   70.000000    1.000000                582.000000   \n",
      "max    298.000000   95.000000    1.000000               7861.000000   \n",
      "\n",
      "       ejection_fraction  high_blood_pressure      platelets  \\\n",
      "count         299.000000           299.000000     299.000000   \n",
      "mean           38.083612             0.351171  263358.029264   \n",
      "std            11.834841             0.478136   97804.236869   \n",
      "min            14.000000             0.000000   25100.000000   \n",
      "25%            30.000000             0.000000  212500.000000   \n",
      "50%            38.000000             0.000000  262000.000000   \n",
      "75%            45.000000             1.000000  303500.000000   \n",
      "max            80.000000             1.000000  850000.000000   \n",
      "\n",
      "       serum_creatinine  serum_sodium    smoking        time  DEATH_EVENT  \n",
      "count         299.00000    299.000000  299.00000  299.000000    299.00000  \n",
      "mean            1.39388    136.625418    0.32107  130.260870      0.32107  \n",
      "std             1.03451      4.412477    0.46767   77.614208      0.46767  \n",
      "min             0.50000    113.000000    0.00000    4.000000      0.00000  \n",
      "25%             0.90000    134.000000    0.00000   73.000000      0.00000  \n",
      "50%             1.10000    137.000000    0.00000  115.000000      0.00000  \n",
      "75%             1.40000    140.000000    1.00000  203.000000      1.00000  \n",
      "max             9.40000    148.000000    1.00000  285.000000      1.00000  \n"
     ]
    }
   ],
   "source": [
    "print(df.describe())"
   ]
  },
  {
   "cell_type": "code",
   "execution_count": 18,
   "id": "a68a949c-d7a6-4d99-ba73-09cfcb6225cc",
   "metadata": {},
   "outputs": [
    {
     "name": "stdout",
     "output_type": "stream",
     "text": [
      "<class 'pandas.core.frame.DataFrame'>\n",
      "RangeIndex: 299 entries, 0 to 298\n",
      "Data columns (total 14 columns):\n",
      " #   Column                    Non-Null Count  Dtype  \n",
      "---  ------                    --------------  -----  \n",
      " 0   Unnamed: 0                299 non-null    int64  \n",
      " 1   age                       299 non-null    float64\n",
      " 2   anaemia                   299 non-null    int64  \n",
      " 3   creatinine_phosphokinase  299 non-null    int64  \n",
      " 4   diabetes                  299 non-null    object \n",
      " 5   ejection_fraction         299 non-null    int64  \n",
      " 6   high_blood_pressure       299 non-null    int64  \n",
      " 7   platelets                 299 non-null    float64\n",
      " 8   serum_creatinine          299 non-null    float64\n",
      " 9   serum_sodium              299 non-null    int64  \n",
      " 10  sex                       299 non-null    object \n",
      " 11  smoking                   299 non-null    int64  \n",
      " 12  time                      299 non-null    int64  \n",
      " 13  DEATH_EVENT               299 non-null    int64  \n",
      "dtypes: float64(3), int64(9), object(2)\n",
      "memory usage: 32.8+ KB\n",
      "None\n"
     ]
    }
   ],
   "source": [
    "print(df.info())"
   ]
  },
  {
   "cell_type": "code",
   "execution_count": 19,
   "id": "2061cace-d08c-437f-945c-87fd61ff5aec",
   "metadata": {},
   "outputs": [
    {
     "name": "stdout",
     "output_type": "stream",
     "text": [
      "DEATH_EVENT\n",
      "0    203\n",
      "1     96\n",
      "Name: count, dtype: int64\n"
     ]
    }
   ],
   "source": [
    "print(df['DEATH_EVENT'].value_counts())\n",
    "#distribution is a little bit imbalanced, but it is not highly skewed."
   ]
  },
  {
   "cell_type": "code",
   "execution_count": 20,
   "id": "ce142792-fde9-468a-8fcb-e1114a337b21",
   "metadata": {},
   "outputs": [],
   "source": [
    "#Convert sex and diabetes into dummy variables (e.g., male = 1, female = 0)"
   ]
  },
  {
   "cell_type": "code",
   "execution_count": 21,
   "id": "1a7d0302-7dbd-4981-9ff4-475f569eb35c",
   "metadata": {},
   "outputs": [],
   "source": [
    "df['sex'] = df['sex'].apply(lambda x: 1 if x == 'male' else 0)\n",
    "df['diabetes'] = df['diabetes'].apply(lambda x: 1 if x == 'yes' else 0)"
   ]
  },
  {
   "cell_type": "code",
   "execution_count": 22,
   "id": "f3d69a1b-f5e7-4dab-98b5-107c43878135",
   "metadata": {},
   "outputs": [],
   "source": [
    "#Scale Numerical Variables"
   ]
  },
  {
   "cell_type": "code",
   "execution_count": 23,
   "id": "7a79f47f-74f2-4337-b939-6904f8eb3b3a",
   "metadata": {},
   "outputs": [],
   "source": [
    "from sklearn.preprocessing import StandardScaler"
   ]
  },
  {
   "cell_type": "code",
   "execution_count": 24,
   "id": "8de48bba-5593-4e25-b635-c46da4460344",
   "metadata": {},
   "outputs": [],
   "source": [
    "scaler = StandardScaler()\n",
    "scaled_features = scaler.fit_transform(df[['age', 'creatinine_phosphokinase', \n",
    "                                           'ejection_fraction', 'platelets',\n",
    "                                           'serum_creatinine', 'serum_sodium', 'time']])\n",
    "df_scaled = pd.DataFrame(scaled_features, columns=['age', 'creatinine_phosphokinase', \n",
    "                                                   'ejection_fraction', 'platelets',\n",
    "                                                   'serum_creatinine', 'serum_sodium', 'time'])\n",
    "df_scaled = pd.concat([df_scaled, df[['anaemia', 'high_blood_pressure', \n",
    "                                      'diabetes', 'smoking', 'DEATH_EVENT']]], axis=1)\n",
    "#Step1:Scaling the Features Step2:Create a New DataFrame with Scaled Features Step 3:Add Non-Numerical Columns Back to the Scaled Data"
   ]
  },
  {
   "cell_type": "code",
   "execution_count": 25,
   "id": "a223c8d6-a463-4be4-a132-b839feefff5e",
   "metadata": {},
   "outputs": [],
   "source": [
    "#Split Data into Train and Test Sets"
   ]
  },
  {
   "cell_type": "code",
   "execution_count": 26,
   "id": "8a69d4b5-b8ff-447a-abaa-fa70b59c6731",
   "metadata": {},
   "outputs": [],
   "source": [
    "from sklearn.model_selection import train_test_split"
   ]
  },
  {
   "cell_type": "code",
   "execution_count": 27,
   "id": "e110d26b-7608-4723-ad6b-3f197b4b381c",
   "metadata": {},
   "outputs": [],
   "source": [
    "X = df_scaled.drop('DEATH_EVENT', axis=1)\n",
    "y = df_scaled['DEATH_EVENT']\n",
    "X_train, X_test, y_train, y_test = train_test_split(X, y, test_size=0.2, random_state=42)\n",
    "#X-independent variables; y-dependent variable"
   ]
  },
  {
   "cell_type": "code",
   "execution_count": 28,
   "id": "6f12892d-f685-4df4-9cb7-dc312ef18871",
   "metadata": {},
   "outputs": [],
   "source": [
    "#Build and Train the Logistic Regression Model"
   ]
  },
  {
   "cell_type": "code",
   "execution_count": 29,
   "id": "14947a1f-8a41-4ff0-9c6f-e077ac6e1c13",
   "metadata": {},
   "outputs": [],
   "source": [
    "from sklearn.linear_model import LogisticRegression\n",
    "from sklearn.metrics import classification_report, confusion_matrix"
   ]
  },
  {
   "cell_type": "code",
   "execution_count": 31,
   "id": "eaf24030-96c1-4eb0-9d64-c8a9c2fa0c3d",
   "metadata": {},
   "outputs": [],
   "source": [
    "logreg = LogisticRegression(random_state=42)\n",
    "logreg.fit(X_train, y_train)\n",
    "y_pred = logreg.predict(X_test)"
   ]
  },
  {
   "cell_type": "code",
   "execution_count": 32,
   "id": "9bd4d6de-ed3e-42cc-bed8-c4dbf57a98ef",
   "metadata": {},
   "outputs": [
    {
     "name": "stdout",
     "output_type": "stream",
     "text": [
      "Confusion Matrix:\n",
      "[[33  2]\n",
      " [11 14]]\n"
     ]
    }
   ],
   "source": [
    "print(\"Confusion Matrix:\")\n",
    "print(confusion_matrix(y_test, y_pred))\n",
    "#TN 33;FP 2;FN 11; TP 14\n",
    "#33 patients survived, and the model correctly predicted they survived\n",
    "#2 patients survived, but the model incorrectly predicted they died\n",
    "#11 patients died, but the model incorrectly predicted they survived\n",
    "#14 patients died, and the model correctly predicted their deaths"
   ]
  },
  {
   "cell_type": "code",
   "execution_count": 33,
   "id": "e57404e6-bc90-4e77-9999-820b700f1822",
   "metadata": {},
   "outputs": [
    {
     "name": "stdout",
     "output_type": "stream",
     "text": [
      "\n",
      "Classification Report:\n",
      "              precision    recall  f1-score   support\n",
      "\n",
      "           0       0.75      0.94      0.84        35\n",
      "           1       0.88      0.56      0.68        25\n",
      "\n",
      "    accuracy                           0.78        60\n",
      "   macro avg       0.81      0.75      0.76        60\n",
      "weighted avg       0.80      0.78      0.77        60\n",
      "\n"
     ]
    }
   ],
   "source": [
    "print(\"\\nClassification Report:\")\n",
    "print(classification_report(y_test, y_pred))\n",
    "#The model only identifies 56% of the patients who actually died"
   ]
  },
  {
   "cell_type": "code",
   "execution_count": null,
   "id": "e2817664-3997-4f00-be7a-c7a2cf26ae0b",
   "metadata": {},
   "outputs": [],
   "source": [
    "#Interpret the Coefficients"
   ]
  },
  {
   "cell_type": "code",
   "execution_count": 34,
   "id": "07b2f522-c25c-4c27-8ea3-e9f3382e05ca",
   "metadata": {},
   "outputs": [],
   "source": [
    "import numpy as np"
   ]
  },
  {
   "cell_type": "code",
   "execution_count": 35,
   "id": "03e9717e-3bd1-4c32-a087-253da80e9be8",
   "metadata": {},
   "outputs": [
    {
     "name": "stdout",
     "output_type": "stream",
     "text": [
      "                          Odds Ratio\n",
      "serum_creatinine            2.128179\n",
      "age                         1.830023\n",
      "creatinine_phosphokinase    1.087660\n",
      "anaemia                     0.943902\n",
      "high_blood_pressure         0.934834\n",
      "smoking                     0.889849\n",
      "platelets                   0.884606\n",
      "serum_sodium                0.797119\n",
      "diabetes                    0.697478\n",
      "ejection_fraction           0.425940\n",
      "time                        0.197769\n"
     ]
    }
   ],
   "source": [
    "coef_df = pd.DataFrame(np.exp(logreg.coef_[0]), \n",
    "                       X.columns, \n",
    "                       columns=['Odds Ratio']).sort_values(by='Odds Ratio', ascending=False)\n",
    "print(coef_df)"
   ]
  },
  {
   "cell_type": "code",
   "execution_count": null,
   "id": "67504533-fee5-4b62-9945-e95c5a28c3ad",
   "metadata": {},
   "outputs": [],
   "source": [
    "#Serum Creatinine and Age are the strongest predictors for increased risk.\n",
    "#Ejection Fraction and Follow-Up Time have the most protective effects"
   ]
  },
  {
   "cell_type": "code",
   "execution_count": null,
   "id": "39797905-de64-46dc-a762-f02a225c7793",
   "metadata": {},
   "outputs": [],
   "source": [
    "#A 1% increase in ejection fraction decreases the odds of death by 57%.\n",
    "#This strong protective effect reflects the critical role of heart function in survival."
   ]
  },
  {
   "cell_type": "code",
   "execution_count": null,
   "id": "fd48dacb-9f52-4528-ac2b-093377488832",
   "metadata": {},
   "outputs": [],
   "source": [
    "#For every additional day of follow-up, the odds of death decrease by 80%.\n",
    "#Longer monitoring likely indicates stable patients who survived longer."
   ]
  }
 ],
 "metadata": {
  "kernelspec": {
   "display_name": "Python 3 (ipykernel)",
   "language": "python",
   "name": "python3"
  },
  "language_info": {
   "codemirror_mode": {
    "name": "ipython",
    "version": 3
   },
   "file_extension": ".py",
   "mimetype": "text/x-python",
   "name": "python",
   "nbconvert_exporter": "python",
   "pygments_lexer": "ipython3",
   "version": "3.11.5"
  }
 },
 "nbformat": 4,
 "nbformat_minor": 5
}
